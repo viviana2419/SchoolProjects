{
 "cells": [
  {
   "cell_type": "markdown",
   "id": "ad7483df",
   "metadata": {},
   "source": [
    "# INSY336-Data Handling and Coding for Analytics"
   ]
  },
  {
   "cell_type": "markdown",
   "id": "63a65a18",
   "metadata": {},
   "source": [
    "Assignment 1: Enter your code answer after the question line. \n",
    "\n",
    "Please enter your Student Number and Name."
   ]
  },
  {
   "cell_type": "markdown",
   "id": "72dd7b50",
   "metadata": {},
   "source": [
    "Student Number:    "
   ]
  },
  {
   "cell_type": "markdown",
   "id": "9cc764b6",
   "metadata": {},
   "source": [
    "Name: "
   ]
  },
  {
   "cell_type": "markdown",
   "id": "9a88c973",
   "metadata": {},
   "source": [
    "Please submit a copy of the assignment via MyCourses by due date. Include your name and student number at the top of the assignment. Your submission should include the code along with the output (take a screenshot of your output) that you get when you run the code. For example, if the question is to print the string “Hello World”, your answer should comprise of:"
   ]
  },
  {
   "attachments": {
    "example-2.PNG": {
     "image/png": "[encoded data removed]"
    }
   },
   "cell_type": "markdown",
   "id": "ddfc36bb",
   "metadata": {},
   "source": [
    "![example-2.PNG](attachment:example-2.PNG)"
   ]
  },
  {
   "cell_type": "markdown",
   "id": "91229ba3",
   "metadata": {},
   "source": [
    "File Name: Assignment1_StudentNumber_Name.ipynb. Download as .ipynb after you complete your assignment and compress the file (.ipynb) when you submit by uploading on mycourses."
   ]
  },
  {
   "cell_type": "markdown",
   "id": "1cef6fc5",
   "metadata": {},
   "source": [
    "### 1. Calculate the following expressions and print the result using Python (2pt). "
   ]
  },
  {
   "cell_type": "markdown",
   "id": "cb0f23b5",
   "metadata": {},
   "source": [
    "#### a)\tWhat is the modulus of the expression: $(((1234/ 72)^3)* 36)$ when divided by 18. "
   ]
  },
  {
   "cell_type": "code",
   "execution_count": 6,
   "id": "69cf4191",
   "metadata": {},
   "outputs": [
    {
     "name": "stdout",
     "output_type": "stream",
     "text": [
      "14.513117283990141\n"
     ]
    }
   ],
   "source": [
    "x=(((1234/72)**3)*36)%18\n",
    "print(x)"
   ]
  },
  {
   "cell_type": "markdown",
   "id": "05dcbd55",
   "metadata": {},
   "source": [
    "#### a)\tWhat is the value of the expression: $(311- (2+32)*6/3)^4$"
   ]
  },
  {
   "cell_type": "code",
   "execution_count": 8,
   "id": "282cf1db",
   "metadata": {},
   "outputs": [
    {
     "name": "stdout",
     "output_type": "stream",
     "text": [
      "3486784401.0\n"
     ]
    }
   ],
   "source": [
    "x=(311-(2+32)*6/3)**4\n",
    "print(x)"
   ]
  },
  {
   "cell_type": "markdown",
   "id": "e3622cc2",
   "metadata": {},
   "source": [
    "### 2. Calculate the following expressions and print the result using Python (5pt)."
   ]
  },
  {
   "cell_type": "markdown",
   "id": "af76ab94",
   "metadata": {},
   "source": [
    "#### a)  The initial temperature of the room is $100^\\circ F$. The temperature has decreased by $20^\\circ C$ after 5 hours. What is the room temperature after 5 hours in $^\\circ C$? (Hint: $C= (F – 32)*5/9$)                  "
   ]
  },
  {
   "cell_type": "code",
   "execution_count": 12,
   "id": "2e746949",
   "metadata": {},
   "outputs": [
    {
     "name": "stdout",
     "output_type": "stream",
     "text": [
      "17.77777777777778\n"
     ]
    }
   ],
   "source": [
    "c1=(100-32)*5/9 \n",
    "c= c1-20\n",
    "print(c)"
   ]
  },
  {
   "cell_type": "markdown",
   "id": "f5d73444",
   "metadata": {},
   "source": [
    "#### b) A right-angle triangle has sides of length 18 cm and 24 cm. Calculate the length of the hypotenuse in cm. Then calculate the area and perimeter of the right-angle triangle in inches. (Hint: 1 inch = 2.54 cm)"
   ]
  },
  {
   "cell_type": "code",
   "execution_count": 30,
   "id": "ef34a680",
   "metadata": {},
   "outputs": [
    {
     "name": "stdout",
     "output_type": "stream",
     "text": [
      "hypotenuse: 30 cm\n",
      "areas: 66.96013392026784 inches \n",
      " perimeters: 28.346456692913385 inches\n"
     ]
    }
   ],
   "source": [
    "import math\n",
    "a=18\n",
    "b=24\n",
    "c=int(math.sqrt(a**2+b**2))\n",
    "print('hypotenuse:',c,'cm')\n",
    "i=2.54\n",
    "a=a/i\n",
    "b=b/i\n",
    "c=c/i\n",
    "area=a*b\n",
    "p=a+b+c\n",
    "print('areas:',area,'inches','\\n','perimeters:', p,'inches')"
   ]
  },
  {
   "cell_type": "markdown",
   "id": "5ace7acb",
   "metadata": {},
   "source": [
    "### 3.\tRob earns $ \\$3,500 $ per month from his day job and $ \\$970 $ per month on his night job. He also receives a scholarship of $\\$1,800$ per month (5pt) "
   ]
  },
  {
   "cell_type": "markdown",
   "id": "219a44ee",
   "metadata": {},
   "source": [
    "#### a)\tWhat is his total income per month?"
   ]
  },
  {
   "cell_type": "code",
   "execution_count": 4,
   "id": "81f45132",
   "metadata": {},
   "outputs": [
    {
     "name": "stdout",
     "output_type": "stream",
     "text": [
      "6270 $\n"
     ]
    }
   ],
   "source": [
    "totalIncome = 3500+970+1800\n",
    "print(totalIncome,'$')"
   ]
  },
  {
   "cell_type": "markdown",
   "id": "fd7ee033",
   "metadata": {},
   "source": [
    "####  b)\tHe has to pay 20% tax on his total income in a year. How much tax should he pay at the end of a year? (1pt)"
   ]
  },
  {
   "cell_type": "code",
   "execution_count": 5,
   "id": "627eea16",
   "metadata": {},
   "outputs": [
    {
     "name": "stdout",
     "output_type": "stream",
     "text": [
      "15048.0 $\n"
     ]
    }
   ],
   "source": [
    "tax=12*6270*0.2\n",
    "print(tax,'$')"
   ]
  },
  {
   "cell_type": "markdown",
   "id": "5968947c",
   "metadata": {},
   "source": [
    "#### c)\tRob spends $\\$20,000$ per year for his household expenses and $\\$1,000$ per month on groceries. Excluding his taxes and expenses, Rob could save the remaining of his income. If Rob starts a new savings account with the remainder of his income from this year, how much money will Rob have at the end of year 5? The bank gives an annual compound interest rate of 5%. Rob does not put in any money into the account after the first year. (Hint: this year is assumed to be a full year as year 1"
   ]
  },
  {
   "cell_type": "code",
   "execution_count": 11,
   "id": "7ede9961",
   "metadata": {},
   "outputs": [
    {
     "name": "stdout",
     "output_type": "stream",
     "text": [
      "35980.92981000001 $\n"
     ]
    }
   ],
   "source": [
    "Y=12*6270\n",
    "YR=Y-20000-(1000*12)-15048\n",
    "I=YR*(1.05)**5\n",
    "print(I,'$')"
   ]
  },
  {
   "cell_type": "markdown",
   "id": "c419eacc",
   "metadata": {},
   "source": [
    "###  4.\tGenerate a program to get an integer number from the user (4pt). "
   ]
  },
  {
   "cell_type": "markdown",
   "id": "cba98013",
   "metadata": {},
   "source": [
    "####  a)\tDetermine if the input value is an odd number or even number."
   ]
  },
  {
   "cell_type": "code",
   "execution_count": 16,
   "id": "49bd363c",
   "metadata": {},
   "outputs": [
    {
     "name": "stdout",
     "output_type": "stream",
     "text": [
      "input number:-2\n",
      "even number\n"
     ]
    }
   ],
   "source": [
    "n=int(input('input number:'))\n",
    "if n%2==0:\n",
    "    print('even number')\n",
    "else:\n",
    "    print('odd number')"
   ]
  },
  {
   "cell_type": "markdown",
   "id": "c484c263",
   "metadata": {},
   "source": [
    "####  b)\tThen determine if it is divisible by eight. If it is divisible print, “the number is divisible by 8”. If not, print “better luck next time”"
   ]
  },
  {
   "cell_type": "code",
   "execution_count": 22,
   "id": "f7fe85a6",
   "metadata": {},
   "outputs": [
    {
     "name": "stdout",
     "output_type": "stream",
     "text": [
      "input number:16\n",
      "the number is divisible by 8\n"
     ]
    }
   ],
   "source": [
    "n=int(input('input number:'))\n",
    "if n%8==0:\n",
    "    print('the number is divisible by 8')\n",
    "else:\n",
    "    print('better luck next time')"
   ]
  },
  {
   "cell_type": "markdown",
   "id": "37954fab",
   "metadata": {},
   "source": [
    "### 5.\tSalary Calculation (4pt)"
   ]
  },
  {
   "cell_type": "markdown",
   "id": "e59da165",
   "metadata": {},
   "source": [
    "#### Generate a program to print the salary of the employee based on his/her years of experience, employees are paid based on their years of work experience."
   ]
  },
  {
   "attachments": {
    "table2.PNG": {
     "image/png": "[encoded data removed]"
    }
   },
   "cell_type": "markdown",
   "id": "12c94322",
   "metadata": {},
   "source": [
    "![table2.PNG](attachment:table2.PNG)"
   ]
  },
  {
   "cell_type": "markdown",
   "id": "8b6a83e3",
   "metadata": {},
   "source": [
    "#### Build the program to ask a user about his/her work experience and show the salary. When the user’s work experience is between the cut-off value (e.g., 3.5 years), round down the input value (3.5 -> 3) to one decimal place. The expected "
   ]
  },
  {
   "attachments": {
    "example3.PNG": {
     "image/png": "[encoded data removed]"
    }
   },
   "cell_type": "markdown",
   "id": "733badfb",
   "metadata": {},
   "source": [
    "![example3.PNG](attachment:example3.PNG)"
   ]
  },
  {
   "cell_type": "code",
   "execution_count": 30,
   "id": "a9651fd8",
   "metadata": {},
   "outputs": [
    {
     "name": "stdout",
     "output_type": "stream",
     "text": [
      "Tell me about your work-experience(years):23\n",
      "Your salary is $150,000\n"
     ]
    }
   ],
   "source": [
    "n1=input('Tell me about your work-experience(years):').split('.')\n",
    "n=int(n1[0])\n",
    "if n<0:\n",
    "    print('Input has to be positive')\n",
    "elif n<4:\n",
    "    print('Your salary is $30,000')\n",
    "elif n<9:\n",
    "    print('Your salary is $60,000')\n",
    "elif n<14:\n",
    "    print('Your salary is $90,000')\n",
    "elif n<21:\n",
    "    print('Your salary is $100,000')\n",
    "else:\n",
    "    print('Your salary is $150,000')"
   ]
  },
  {
   "cell_type": "markdown",
   "id": "3e32f878",
   "metadata": {},
   "source": [
    "                                               << The End >>"
   ]
  }
 ],
 "metadata": {
  "kernelspec": {
   "display_name": "Python 3 (ipykernel)",
   "language": "python",
   "name": "python3"
  },
  "language_info": {
   "codemirror_mode": {
    "name": "ipython",
    "version": 3
   },
   "file_extension": ".py",
   "mimetype": "text/x-python",
   "name": "python",
   "nbconvert_exporter": "python",
   "pygments_lexer": "ipython3",
   "version": "3.9.7"
  }
 },
 "nbformat": 4,
 "nbformat_minor": 5
}
